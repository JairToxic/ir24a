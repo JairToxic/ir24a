{
 "cells": [
  {
   "cell_type": "markdown",
   "id": "efc7079a-fe87-4b02-a715-734fac496960",
   "metadata": {},
   "source": [
    "# Exploring Ranking Models in Information Retrieval\n",
    "\n",
    "## Objective\n",
    "Understand the practical implementation and differences between the Vector Space Model and the Binary Independence Model in ranking documents relative to a user query."
   ]
  },
  {
   "cell_type": "markdown",
   "id": "434561d8-a046-4760-b426-6c50ead6445e",
   "metadata": {},
   "source": [
    "### Step 1: Data Preprocessing\n",
    "\n",
    "Ensure that the documents are still loaded and preprocessed from the previous task. The data should be clean and ready for advanced querying.\n",
    "Write a function to load and preprocess the text documents from a specified directory. This step involves reading each file, converting the text to lowercase for uniform processing, and storing the results in a dictionary."
   ]
  },
  {
   "cell_type": "markdown",
   "id": "6012ec9c-391c-448d-ae96-3f390d943885",
   "metadata": {},
   "source": [
    "### Step 2:  Vector Space Model (VSM)\n",
    "\n",
    "Task: Implement a simple Vector Space Model using term frequency.\n",
    "\n",
    "Requirements:\n",
    "* _Document and Query Representation:_ Convert each document and the query into a vector where each dimension corresponds to a term from the corpus. Use simple term frequency for weighting.\n",
    "* _Cosine Similarity Calculation:_ Calculate the cosine similarity between the query vector and each document vector.\n",
    "* _Ranking:_ Rank the documents based on their cosine similarity scores from highest to lowest."
   ]
  },
  {
   "cell_type": "code",
   "execution_count": 4,
   "id": "be490ff5-cb10-4186-9ba8-de98b4ce7ebf",
   "metadata": {},
   "outputs": [
    {
     "name": "stderr",
     "output_type": "stream",
     "text": [
      "[nltk_data] Downloading package punkt to\n",
      "[nltk_data]     C:\\Users\\LabP3E005\\AppData\\Roaming\\nltk_data...\n",
      "[nltk_data]   Package punkt is already up-to-date!\n"
     ]
    },
    {
     "name": "stdout",
     "output_type": "stream",
     "text": [
      "DataFrame del Índice Invertido:\n",
      "                pg100.txt  pg10676.txt  pg1080.txt  pg10907.txt  pg11.txt  \\\n",
      "﻿the                    2            1           1            1         1   \n",
      "project               101          114          89           92        88   \n",
      "gutenberg              31           32          31           32        31   \n",
      "ebook                  13           13          13           13        13   \n",
      "of                  18867         3657         259         8815       631   \n",
      "...                   ...          ...         ...          ...       ...   \n",
      "debits                  0            0           0            0         0   \n",
      "quixana                 0            0           0            0         0   \n",
      "p74b.jpg                0            0           0            0         0   \n",
      "tordesillesque          0            0           0            0         0   \n",
      "p74e.jpg                0            0           0            0         0   \n",
      "\n",
      "                pg1184.txt  pg120.txt  pg1232.txt  pg12582.txt  pg1259.txt  \\\n",
      "﻿the                     1          1           1            1           1   \n",
      "project                108         88          88           92          97   \n",
      "gutenberg               32         31          31           32          33   \n",
      "ebook                   13         13          13           13          18   \n",
      "of                   12877       1805        1817         9590        6202   \n",
      "...                    ...        ...         ...          ...         ...   \n",
      "debits                   0          0           0            0           0   \n",
      "quixana                  0          0           0            0           0   \n",
      "p74b.jpg                 0          0           0            0           0   \n",
      "tordesillesque           0          0           0            0           0   \n",
      "p74e.jpg                 0          0           0            0           0   \n",
      "\n",
      "                ...  pg73448.txt  pg7370.txt  pg74.txt  pg76.txt  pg768.txt  \\\n",
      "﻿the            ...            1           1         1         1          1   \n",
      "project         ...           92          88        88        89         91   \n",
      "gutenberg       ...           31          31        31        31         31   \n",
      "ebook           ...           14          13        13        13         13   \n",
      "of              ...         1316        2629      1585      1781       2342   \n",
      "...             ...          ...         ...       ...       ...        ...   \n",
      "debits          ...            0           0         0         0          0   \n",
      "quixana         ...            0           0         0         0          0   \n",
      "p74b.jpg        ...            0           0         0         0          0   \n",
      "tordesillesque  ...            0           0         0         0          0   \n",
      "p74e.jpg        ...            0           0         0         0          0   \n",
      "\n",
      "                pg84.txt  pg844.txt  pg8800.txt  pg98.txt  pg996.txt  \n",
      "﻿the                   1          1           1         1          1  \n",
      "project               88         88          88        88         95  \n",
      "gutenberg             31         31          31        31         32  \n",
      "ebook                 13         13          13        13         14  \n",
      "of                  2761        519        2576      4138      13456  \n",
      "...                  ...        ...         ...       ...        ...  \n",
      "debits                 0          0           0         0          1  \n",
      "quixana                0          0           0         0          2  \n",
      "p74b.jpg               0          0           0         0          1  \n",
      "tordesillesque         0          0           0         0          1  \n",
      "p74e.jpg               0          0           0         0          1  \n",
      "\n",
      "[303900 rows x 98 columns]\n"
     ]
    }
   ],
   "source": [
    "import os\n",
    "import pandas as pd\n",
    "from nltk.tokenize import word_tokenize\n",
    "import nltk\n",
    "nltk.download('punkt')\n",
    "\n",
    "def construir_indice_invertido():\n",
    "    indice = {}\n",
    "    libros = os.listdir(\"descargas\")\n",
    "    \n",
    "    for libro in libros:\n",
    "        with open(os.path.join(\"descargas\", libro), 'r', encoding='utf-8') as f:\n",
    "            contenido = f.read().lower()  # Convertir el contenido a minúsculas\n",
    "            palabras = word_tokenize(contenido)  # Tokenizar el contenido en palabras usando NLTK\n",
    "            \n",
    "            for palabra in palabras:  \n",
    "                if palabra not in indice:\n",
    "                    indice[palabra] = {}  \n",
    "                \n",
    "                if libro not in indice[palabra]:\n",
    "                    indice[palabra][libro] = 0\n",
    "                \n",
    "                indice[palabra][libro] += 1  # Incrementar el recuento de la palabra en el libro\n",
    "    \n",
    "    # Crear un DataFrame con todos los valores 0\n",
    "    df = pd.DataFrame(index=indice.keys(), columns=libros)\n",
    "    df.fillna(0, inplace=True)  # Rellenar todos los valores con 0\n",
    "    \n",
    "    # Rellenar el DataFrame con el recuento de ocurrencias de las palabras en los libros\n",
    "    for palabra, libros in indice.items():\n",
    "        for libro, count in libros.items():\n",
    "            df.at[palabra, libro] = count\n",
    "    \n",
    "    # Guardar el DataFrame en un archivo CSV\n",
    "    df.to_csv('indice_invertido_recuento.csv')\n",
    "    \n",
    "    return df\n",
    "\n",
    "indice_invertido_df = construir_indice_invertido()\n",
    "\n",
    "print(\"DataFrame del Índice Invertido:\")\n",
    "print(indice_invertido_df)\n"
   ]
  },
  {
   "cell_type": "markdown",
   "id": "6131fb70-5056-4ab6-8011-bfb34dce3478",
   "metadata": {},
   "source": [
    "### Step 3: Binary Independence Model (BIM)\n",
    "\n",
    "Task: Implement a basic Binary Independence Model to rank documents.\n",
    "\n",
    "Requirements:\n",
    "* _Binary Representation:_ Represent the corpus and the query in binary vectors (1 if the term is present, 0 otherwise).\n",
    "* _Probability Estimation:_ Assume arbitrary probabilities for the presence of each term in relevant and non-relevant documents.\n",
    "* _Relevance Scoring:_ Calculate the relevance score for each document based on the product of probabilities for terms present in the query.\n",
    "* _Ranking:_ Rank the documents based on their relevance scores from highest to lowest."
   ]
  },
  {
   "cell_type": "code",
   "execution_count": null,
   "id": "0ad99b61-5023-4c65-9056-f0da8e560148",
   "metadata": {},
   "outputs": [
    {
     "name": "stdin",
     "output_type": "stream",
     "text": [
      "Ingrese una palabra para buscar en el índice invertido (o 'salir' para terminar):  romeo+\n"
     ]
    },
    {
     "name": "stdout",
     "output_type": "stream",
     "text": [
      "La palabra 'romeo+' no se encuentra en ningún libro.\n"
     ]
    },
    {
     "name": "stdin",
     "output_type": "stream",
     "text": [
      "Ingrese una palabra para buscar en el índice invertido (o 'salir' para terminar):  romeo\n"
     ]
    },
    {
     "name": "stdout",
     "output_type": "stream",
     "text": [
      "Resultados para la palabra 'romeo':\n",
      "             Número de ocurrencias\n",
      "pg1513.txt                     317\n",
      "pg100.txt                      314\n",
      "pg5197.txt                       8\n",
      "pg174.txt                        6\n",
      "pg76.txt                         6\n",
      "pg18893.txt                      3\n",
      "pg2554.txt                       3\n",
      "pg4300.txt                       2\n",
      "pg62119.txt                      2\n",
      "pg8800.txt                       2\n",
      "pg20228.txt                      1\n",
      "pg37106.txt                      1\n",
      "pg514.txt                        1\n",
      "pg52882.txt                      1\n"
     ]
    },
    {
     "name": "stdin",
     "output_type": "stream",
     "text": [
      "Ingrese una palabra para buscar en el índice invertido (o 'salir' para terminar):  pale\n"
     ]
    },
    {
     "name": "stdout",
     "output_type": "stream",
     "text": [
      "Resultados para la palabra 'pale':\n",
      "             Número de ocurrencias\n",
      "pg1184.txt                     192\n",
      "pg100.txt                      148\n",
      "pg2600.txt                     111\n",
      "pg47312.txt                    104\n",
      "pg52882.txt                     74\n",
      "...                            ...\n",
      "pg47629.txt                      1\n",
      "pg2542.txt                       1\n",
      "pg35899.txt                      1\n",
      "pg844.txt                        1\n",
      "pg61419.txt                      1\n",
      "\n",
      "[79 rows x 1 columns]\n"
     ]
    },
    {
     "name": "stdin",
     "output_type": "stream",
     "text": [
      "Ingrese una palabra para buscar en el índice invertido (o 'salir' para terminar):  toen\n"
     ]
    },
    {
     "name": "stdout",
     "output_type": "stream",
     "text": [
      "Resultados para la palabra 'toen':\n",
      "             Número de ocurrencias\n",
      "pg41287.txt                    284\n"
     ]
    }
   ],
   "source": [
    "import pandas as pd\n",
    "\n",
    "def buscar_palabra_en_indice(palabra):\n",
    "    indice_invertido_df = pd.read_csv('indice_invertido_recuento.csv', index_col=0)\n",
    "    palabra = palabra.lower()  # Convertir la palabra a minúsculas para que coincida con el formato en el DataFrame\n",
    "    if palabra in indice_invertido_df.index:\n",
    "        resultados = indice_invertido_df.loc[palabra]\n",
    "        resultados = resultados[resultados > 0]  # Filtrar los libros donde la palabra aparece al menos una vez\n",
    "        if resultados.empty:\n",
    "            print(\"La palabra '{}' aparece en los libros, pero el número de ocurrencias es cero.\".format(palabra))\n",
    "        else:\n",
    "            resultados_ordenados = resultados.sort_values(ascending=False)  # Ordenar los resultados por número de ocurrencias\n",
    "            resultados_df = resultados_ordenados.to_frame(name='Número de ocurrencias')\n",
    "            print(\"Resultados para la palabra '{}':\".format(palabra))\n",
    "            print(resultados_df)\n",
    "    else:\n",
    "        print(\"La palabra '{}' no se encuentra en ningún libro.\".format(palabra))\n",
    "\n",
    "# Interfaz de búsqueda\n",
    "while True:\n",
    "    consulta = input(\"Ingrese una palabra para buscar en el índice invertido (o 'salir' para terminar): \")\n",
    "    if consulta.lower() == 'salir':\n",
    "        break\n",
    "    buscar_palabra_en_indice(consulta)"
   ]
  },
  {
   "cell_type": "code",
   "execution_count": null,
   "id": "761cc936-c47e-492b-b388-d85788838f3f",
   "metadata": {},
   "outputs": [],
   "source": []
  }
 ],
 "metadata": {
  "kernelspec": {
   "display_name": "Python 3 (ipykernel)",
   "language": "python",
   "name": "python3"
  },
  "language_info": {
   "codemirror_mode": {
    "name": "ipython",
    "version": 3
   },
   "file_extension": ".py",
   "mimetype": "text/x-python",
   "name": "python",
   "nbconvert_exporter": "python",
   "pygments_lexer": "ipython3",
   "version": "3.11.7"
  }
 },
 "nbformat": 4,
 "nbformat_minor": 5
}
