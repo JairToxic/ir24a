{
 "cells": [
  {
   "cell_type": "markdown",
   "metadata": {},
   "source": [
    "# Boolean Search in Documents\n",
    "\n",
    "## Objective\n",
    "Expand the simple term search functionality to include Boolean search capabilities. This will allow users to perform more complex queries by combining multiple search terms using Boolean operators.\n",
    "\n",
    "## Problem Description\n",
    "You must enhance the existing search engine from the previous exercise to support Boolean operators: AND, OR, and NOT. This will enable the retrieval of documents based on the logical relationships between multiple terms."
   ]
  },
  {
   "cell_type": "markdown",
   "metadata": {},
   "source": [
    "## Requirements\n",
    "\n",
    "### Step 1: Update Data Preparation\n",
    "Ensure that the documents are still loaded and preprocessed from the previous task. The data should be clean and ready for advanced querying."
   ]
  },
  {
   "cell_type": "markdown",
   "metadata": {},
   "source": [
    "### Step 2: Create an Inverted Index\n",
    "\n",
    "Create an inverted index from the documents. This index maps each word to the set of document IDs in which that word appears. This facilitates word lookup in the search process."
   ]
  },
  {
   "cell_type": "markdown",
   "metadata": {},
   "source": [
    "### Step 3: Implementing Boolean Search\n",
    "- **Enhance Input Query**: Modify the function to accept complex queries that can include the Boolean operators AND, OR, and NOT.\n",
    "- **Implement Boolean Logic**:\n",
    "  - **AND**: The document must contain all the terms. For example, `python AND programming` should return documents containing both \"python\" and \"programming\".\n",
    "  - **OR**: The document can contain any of the terms. For example, `python OR programming` should return documents containing either \"python\", \"programming\", or both.\n",
    "  - **NOT**: The document must not contain the term following NOT. For example, `python NOT snake` should return documents that contain \"python\" but not \"snake\"."
   ]
  },
  {
   "cell_type": "markdown",
   "metadata": {},
   "source": [
    "### Step 4: Query Processing\n",
    "- **Parse the Query**: Implement a function to parse the input query to identify the terms and operators.\n",
    "- **Search Documents**: Based on the parsed query, implement the logic to retrieve and rank the documents according to the Boolean expressions.\n",
    "- **Handling Case Sensitivity and Partial Matches**: Optionally, you can handle cases and partial matches to refine the search results."
   ]
  },
  {
   "cell_type": "code",
   "execution_count": 13,
   "metadata": {},
   "outputs": [],
   "source": [
    "import os\n",
    "import pandas as pd\n",
    "from nltk.tokenize import word_tokenize\n",
    "\n",
    "def construir_indice_invertido():\n",
    "    indice = {}\n",
    "    documentos = {}  # Mantener un registro de los documentos y su contenido para referencia posterior\n",
    "    \n",
    "    # Obtener la lista de documentos en el directorio\n",
    "    documentos_path = \"Downloads/descargas\"\n",
    "    libros = os.listdir(documentos_path)\n",
    "    \n",
    "    # Iterar sobre cada documento para construir el índice invertido\n",
    "    for libro in libros:\n",
    "        with open(os.path.join(documentos_path, libro), 'r', encoding='utf-8') as f:\n",
    "            contenido = f.read().lower()  # Convertir el contenido a minúsculas\n",
    "            palabras = word_tokenize(contenido)  # Tokenizar el contenido en palabras usando NLTK\n",
    "            \n",
    "            # Registrar el contenido del documento para referencia posterior\n",
    "            documentos[libro] = contenido\n",
    "            \n",
    "            for palabra in set(palabras):  # Usar un conjunto para evitar duplicados\n",
    "                if palabra not in indice:\n",
    "                    indice[palabra] = set()  # Usar un conjunto para almacenar los libros donde aparece la palabra\n",
    "                indice[palabra].add(libro)  # Agregar el libro a la lista de libros donde aparece la palabra\n",
    "    \n",
    "    # Crear un DataFrame con el índice invertido\n",
    "    df = pd.DataFrame(index=indice.keys(), columns=libros)\n",
    "    df.fillna(False, inplace=True)  # Rellenar todos los valores con False\n",
    "    \n",
    "    # Marcar las celdas como True donde la palabra aparece en un libro\n",
    "    for palabra, libros in indice.items():\n",
    "        for libro in libros:\n",
    "            df.at[palabra, libro] = True\n",
    "    \n",
    "    return df, documentos\n",
    "\n",
    "indice_invertido_df, documentos = construir_indice_invertido()\n"
   ]
  },
  {
   "cell_type": "markdown",
   "metadata": {},
   "source": [
    "### Step 5: Displaying Results\n",
    "- **Output the Results**: Display the documents that match the query criteria. Include functionalities to handle queries that result in no matching documents."
   ]
  },
  {
   "cell_type": "code",
   "execution_count": null,
   "metadata": {
    "ExecuteTime": {
     "end_time": "2024-05-01T02:02:13.691021Z",
     "start_time": "2024-05-01T02:02:13.681198Z"
    }
   },
   "outputs": [
    {
     "name": "stdin",
     "output_type": "stream",
     "text": [
      "Ingrese una consulta para buscar en el índice invertido (o 'salir' para terminar):  gut\n"
     ]
    },
    {
     "name": "stdout",
     "output_type": "stream",
     "text": [
      "Resultados para la palabra 'gut':\n"
     ]
    },
    {
     "data": {
      "text/html": [
       "<div>\n",
       "<style scoped>\n",
       "    .dataframe tbody tr th:only-of-type {\n",
       "        vertical-align: middle;\n",
       "    }\n",
       "\n",
       "    .dataframe tbody tr th {\n",
       "        vertical-align: top;\n",
       "    }\n",
       "\n",
       "    .dataframe thead th {\n",
       "        text-align: right;\n",
       "    }\n",
       "</style>\n",
       "<table border=\"1\" class=\"dataframe\">\n",
       "  <thead>\n",
       "    <tr style=\"text-align: right;\">\n",
       "      <th></th>\n",
       "      <th>Número de ocurrencias</th>\n",
       "    </tr>\n",
       "  </thead>\n",
       "  <tbody>\n",
       "    <tr>\n",
       "      <th>pg16.txt</th>\n",
       "      <td>True</td>\n",
       "    </tr>\n",
       "    <tr>\n",
       "      <th>pg1727.txt</th>\n",
       "      <td>True</td>\n",
       "    </tr>\n",
       "    <tr>\n",
       "      <th>pg2160.txt</th>\n",
       "      <td>True</td>\n",
       "    </tr>\n",
       "    <tr>\n",
       "      <th>pg2600.txt</th>\n",
       "      <td>True</td>\n",
       "    </tr>\n",
       "    <tr>\n",
       "      <th>pg29728.txt</th>\n",
       "      <td>True</td>\n",
       "    </tr>\n",
       "    <tr>\n",
       "      <th>pg37106.txt</th>\n",
       "      <td>True</td>\n",
       "    </tr>\n",
       "    <tr>\n",
       "      <th>pg41070.txt</th>\n",
       "      <td>True</td>\n",
       "    </tr>\n",
       "    <tr>\n",
       "      <th>pg4300.txt</th>\n",
       "      <td>True</td>\n",
       "    </tr>\n",
       "    <tr>\n",
       "      <th>pg514.txt</th>\n",
       "      <td>True</td>\n",
       "    </tr>\n",
       "    <tr>\n",
       "      <th>pg6761.txt</th>\n",
       "      <td>True</td>\n",
       "    </tr>\n",
       "  </tbody>\n",
       "</table>\n",
       "</div>"
      ],
      "text/plain": [
       "             Número de ocurrencias\n",
       "pg16.txt                      True\n",
       "pg1727.txt                    True\n",
       "pg2160.txt                    True\n",
       "pg2600.txt                    True\n",
       "pg29728.txt                   True\n",
       "pg37106.txt                   True\n",
       "pg41070.txt                   True\n",
       "pg4300.txt                    True\n",
       "pg514.txt                     True\n",
       "pg6761.txt                    True"
      ]
     },
     "metadata": {},
     "output_type": "display_data"
    },
    {
     "name": "stdin",
     "output_type": "stream",
     "text": [
      "Ingrese una consulta para buscar en el índice invertido (o 'salir' para terminar):  gut AND romeoç\n"
     ]
    },
    {
     "name": "stdout",
     "output_type": "stream",
     "text": [
      "No se encontraron documentos que coincidan con la consulta 'gut and romeoç'.\n",
      "\n"
     ]
    },
    {
     "name": "stdin",
     "output_type": "stream",
     "text": [
      "Ingrese una consulta para buscar en el índice invertido (o 'salir' para terminar):  gut AND romeo\n"
     ]
    },
    {
     "name": "stdout",
     "output_type": "stream",
     "text": [
      "Documentos que coinciden con la consulta 'gut and romeo':\n"
     ]
    },
    {
     "data": {
      "text/html": [
       "<div>\n",
       "<style scoped>\n",
       "    .dataframe tbody tr th:only-of-type {\n",
       "        vertical-align: middle;\n",
       "    }\n",
       "\n",
       "    .dataframe tbody tr th {\n",
       "        vertical-align: top;\n",
       "    }\n",
       "\n",
       "    .dataframe thead th {\n",
       "        text-align: right;\n",
       "    }\n",
       "</style>\n",
       "<table border=\"1\" class=\"dataframe\">\n",
       "  <thead>\n",
       "    <tr style=\"text-align: right;\">\n",
       "      <th></th>\n",
       "    </tr>\n",
       "  </thead>\n",
       "  <tbody>\n",
       "    <tr>\n",
       "      <th>pg2814.txt</th>\n",
       "    </tr>\n",
       "    <tr>\n",
       "      <th>pg5197.txt</th>\n",
       "    </tr>\n",
       "    <tr>\n",
       "      <th>pg76.txt</th>\n",
       "    </tr>\n",
       "    <tr>\n",
       "      <th>pg37106.txt</th>\n",
       "    </tr>\n",
       "    <tr>\n",
       "      <th>pg8800.txt</th>\n",
       "    </tr>\n",
       "    <tr>\n",
       "      <th>pg52882.txt</th>\n",
       "    </tr>\n",
       "    <tr>\n",
       "      <th>pg100.txt</th>\n",
       "    </tr>\n",
       "    <tr>\n",
       "      <th>pg4300.txt</th>\n",
       "    </tr>\n",
       "    <tr>\n",
       "      <th>pg514.txt</th>\n",
       "    </tr>\n",
       "    <tr>\n",
       "      <th>pg20228.txt</th>\n",
       "    </tr>\n",
       "    <tr>\n",
       "      <th>pg2554.txt</th>\n",
       "    </tr>\n",
       "    <tr>\n",
       "      <th>pg1513.txt</th>\n",
       "    </tr>\n",
       "    <tr>\n",
       "      <th>pg62119.txt</th>\n",
       "    </tr>\n",
       "    <tr>\n",
       "      <th>pg18893.txt</th>\n",
       "    </tr>\n",
       "    <tr>\n",
       "      <th>pg174.txt</th>\n",
       "    </tr>\n",
       "    <tr>\n",
       "      <th>pg48191.txt</th>\n",
       "    </tr>\n",
       "  </tbody>\n",
       "</table>\n",
       "</div>"
      ],
      "text/plain": [
       "Empty DataFrame\n",
       "Columns: []\n",
       "Index: [pg2814.txt, pg5197.txt, pg76.txt, pg37106.txt, pg8800.txt, pg52882.txt, pg100.txt, pg4300.txt, pg514.txt, pg20228.txt, pg2554.txt, pg1513.txt, pg62119.txt, pg18893.txt, pg174.txt, pg48191.txt]"
      ]
     },
     "metadata": {},
     "output_type": "display_data"
    }
   ],
   "source": [
    "def buscar_palabra_en_indice(query):\n",
    "    # Convertir la consulta a minúsculas para que coincida con el formato en el DataFrame\n",
    "    query = query.lower()\n",
    "    \n",
    "    # Dividir la consulta en términos y operadores\n",
    "    terminos = query.split()\n",
    "    operadores = set([\"and\", \"or\", \"not\"])\n",
    "    \n",
    "    # Verificar si la consulta contiene operadores booleanos\n",
    "    if any(op in operadores for op in terminos):\n",
    "        # Inicializar un conjunto de documentos que coinciden con la consulta\n",
    "        resultados = set(documentos.keys())  # Empezamos con todos los documentos como posibles resultados\n",
    "        \n",
    "        # Iterar sobre los términos y operadores para evaluar la consulta booleana\n",
    "        i = 0\n",
    "        while i < len(terminos):\n",
    "            term = terminos[i]\n",
    "            if term == \"not\":\n",
    "                if i + 1 < len(terminos):\n",
    "                    siguiente_term = terminos[i + 1]\n",
    "                    if siguiente_term in indice_invertido_df.index:\n",
    "                        # Si se encuentra un término después de \"not\", excluimos los documentos que lo contienen\n",
    "                        resultados.difference_update(indice_invertido_df.loc[siguiente_term].index)\n",
    "                    i += 1\n",
    "            elif term == \"and\":\n",
    "                i += 1\n",
    "                if i < len(terminos):\n",
    "                    siguiente_term = terminos[i]\n",
    "                    if siguiente_term in indice_invertido_df.index:\n",
    "                        # Si se encuentra un término después de \"and\", intersectamos los documentos que lo contienen\n",
    "                        resultados.intersection_update(indice_invertido_df.loc[siguiente_term].index)\n",
    "            elif term == \"or\":\n",
    "                i += 1\n",
    "                if i < len(terminos):\n",
    "                    siguiente_term = terminos[i]\n",
    "                    if siguiente_term in indice_invertido_df.index:\n",
    "                        # Si se encuentra un término después de \"or\", unimos los documentos que lo contienen\n",
    "                        resultados.update(indice_invertido_df.loc[siguiente_term].index)\n",
    "            else:\n",
    "                # Si el término no es un operador, no hacemos nada\n",
    "                pass\n",
    "            \n",
    "            i += 1\n",
    "        \n",
    "        # Filtrar documentos que realmente coinciden con la consulta\n",
    "        resultados_filtrados = [documento for documento in resultados if all(term in documentos[documento].lower() for term in terminos)]\n",
    "        \n",
    "        if resultados_filtrados:\n",
    "            resultados_df = pd.DataFrame(index=resultados_filtrados)\n",
    "            print(\"Documentos que coinciden con la consulta '{}':\".format(query))\n",
    "            display(resultados_df)\n",
    "        else:\n",
    "            print(\"No se encontraron documentos que coincidan con la consulta '{}'.\\n\".format(query))\n",
    "        \n",
    "    else:\n",
    "        # Si la consulta no contiene operadores booleanos, simplemente buscamos la palabra en el índice invertido\n",
    "        if query in indice_invertido_df.index:\n",
    "            resultados = indice_invertido_df.loc[query]\n",
    "            resultados = resultados[resultados > 0]  # Filtrar los libros donde la palabra aparece al menos una vez\n",
    "            if not resultados.empty:\n",
    "                resultados_df = resultados.to_frame(name='Número de ocurrencias')\n",
    "                print(\"Resultados para la palabra '{}':\".format(query))\n",
    "                display(resultados_df)\n",
    "            else:\n",
    "                print(\"La palabra '{}' aparece en los libros, pero el número de ocurrencias es cero.\".format(query))\n",
    "        else:\n",
    "            print(\"La palabra '{}' no se encuentra en ningún libro.\".format(query))\n",
    "\n",
    "# Interfaz de búsqueda\n",
    "while True:\n",
    "    consulta = input(\"Ingrese una consulta para buscar en el índice invertido (o 'salir' para terminar): \")\n",
    "    if consulta.lower() == 'salir':\n",
    "        break\n",
    "    buscar_palabra_en_indice(consulta)\n"
   ]
  },
  {
   "cell_type": "markdown",
   "metadata": {},
   "source": [
    "## Evaluation Criteria\n",
    "- **Correctness**: The Boolean search implementation should correctly interpret and process the queries according to the Boolean logic.\n",
    "- **Efficiency**: Consider the efficiency of your search process, especially as the complexity of queries increases.\n",
    "- **User Experience**: Ensure that the interface for inputting queries and viewing results is user-friendly.\n",
    "\n",
    "## Additional Challenges (Optional)\n",
    "- **Nested Boolean Queries**: Allow for nested queries using parentheses, such as `(python OR java) AND programming`.\n",
    "- **Phrase Searching**: Implement the ability to search for exact phrases enclosed in quotes.\n",
    "- **Proximity Searching**: Extend the search to find terms that are within a specific distance from one another.\n",
    "\n",
    "This exercise will deepen your understanding of how search engines process and respond to complex user queries. By incorporating Boolean search, you not only enhance the functionality of your search engine but also mimic more closely how real-world information retrieval systems operate."
   ]
  }
 ],
 "metadata": {
  "kernelspec": {
   "display_name": "Python 3 (ipykernel)",
   "language": "python",
   "name": "python3"
  },
  "language_info": {
   "codemirror_mode": {
    "name": "ipython",
    "version": 3
   },
   "file_extension": ".py",
   "mimetype": "text/x-python",
   "name": "python",
   "nbconvert_exporter": "python",
   "pygments_lexer": "ipython3",
   "version": "3.11.7"
  }
 },
 "nbformat": 4,
 "nbformat_minor": 4
}
