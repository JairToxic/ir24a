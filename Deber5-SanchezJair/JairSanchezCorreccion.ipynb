{
 "cells": [
  {
   "cell_type": "markdown",
   "id": "fa630661cfe7ea84",
   "metadata": {},
   "source": [
    "## Corrección del Examen de 1er bimestre"
   ]
  },
  {
   "cell_type": "code",
   "execution_count": 14,
   "id": "6d4facb5-9420-43ad-b958-a742c508d36a",
   "metadata": {},
   "outputs": [],
   "source": [
    "##Jair Sanchez"
   ]
  },
  {
   "cell_type": "markdown",
   "id": "e27cce16d2bfb3cf",
   "metadata": {},
   "source": [
    "Considere el siguiente corpus:"
   ]
  },
  {
   "cell_type": "code",
   "execution_count": 15,
   "id": "57a28e7cef70ec31",
   "metadata": {
    "ExecuteTime": {
     "end_time": "2024-06-13T15:39:32.524191Z",
     "start_time": "2024-06-13T15:39:32.506204Z"
    }
   },
   "outputs": [],
   "source": [
    "doc1 = \"Las habilidades blandas son fundamentales para el éxito en el campo de la informática. Estas habilidades fundamentales incluyen la comunicación efectiva, la capacidad de trabajar en equipo y la gestión del tiempo.\"\n",
    "doc2 = \"El desarrollo de habilidades blandas es fundamental para los informáticos, ya que estas competencias facilitan la interacción y colaboración en entornos de trabajo dinámicos.\"\n",
    "doc3 = \"En la informática, la resolución de problemas es una habilidad técnica esencial, pero combinarla con habilidades blandas como la creatividad y el pensamiento crítico puede llevar a soluciones innovadoras.\"\n",
    "doc4 = \"La empatía, por ejemplo, es una habilidad blanda que permite a los profesionales de la informática entender y anticipar las necesidades fundamentales de los usuarios, mejorando así la calidad de los productos y técnicas desarrolladas.\"\n",
    "doc5 = \"La inteligencia emocional es una habilidad blanda vital para los informáticos. Permite gestionar mejor las emociones propias y las de los demás, facilitando así un entorno de trabajo más armonioso y productivo.\"\n",
    "\n",
    "# wset es el conjunto de palabras en el corpus\n",
    "wset = set()\n",
    "# docs es el arreglo de documentos en el corpus\n",
    "docs = [doc1, doc2, doc3, doc4, doc5]"
   ]
  },
  {
   "cell_type": "markdown",
   "id": "2719675b6ca2ed47",
   "metadata": {},
   "source": [
    "#### 0. Preprocesamiento del corpus"
   ]
  },
  {
   "cell_type": "markdown",
   "id": "f9347670f84cb3d3",
   "metadata": {},
   "source": [
    "Considere las siguientes palabras vacías, o stop words:\n",
    "{a, así, como, con, de, del, el, en, es, estas, la, las, los, más, para, pero, por, que, son, un, una, y, ya}"
   ]
  },
  {
   "cell_type": "code",
   "execution_count": 16,
   "id": "6d34f7d0baf64b9d",
   "metadata": {
    "ExecuteTime": {
     "end_time": "2024-06-13T15:39:43.499162Z",
     "start_time": "2024-06-13T15:39:43.480261Z"
    }
   },
   "outputs": [
    {
     "name": "stdout",
     "output_type": "stream",
     "text": [
      "[('habilidades', 4), ('blandas', 3), ('fundamentales', 3), ('informática', 3), ('habilidad', 3), ('informáticos', 2), ('trabajo', 2), ('blanda', 2), ('permite', 2), ('éxito', 1), ('campo', 1), ('incluyen', 1), ('comunicación', 1), ('efectiva', 1), ('capacidad', 1), ('trabajar', 1), ('equipo', 1), ('gestión', 1), ('tiempo', 1), ('desarrollo', 1), ('fundamental', 1), ('competencias', 1), ('facilitan', 1), ('interacción', 1), ('colaboración', 1), ('entornos', 1), ('dinámicos', 1), ('resolución', 1), ('problemas', 1), ('técnica', 1), ('esencial', 1), ('combinarla', 1), ('creatividad', 1), ('pensamiento', 1), ('crítico', 1), ('puede', 1), ('llevar', 1), ('soluciones', 1), ('innovadoras', 1), ('empatía', 1), ('ejemplo', 1), ('profesionales', 1), ('entender', 1), ('anticipar', 1), ('necesidades', 1), ('usuarios', 1), ('mejorando', 1), ('calidad', 1), ('productos', 1), ('técnicas', 1), ('desarrolladas', 1), ('inteligencia', 1), ('emocional', 1), ('vital', 1), ('gestionar', 1), ('mejor', 1), ('emociones', 1), ('propias', 1), ('demás', 1), ('facilitando', 1), ('entorno', 1), ('armonioso', 1), ('productivo', 1)]\n"
     ]
    }
   ],
   "source": [
    "import string\n",
    "from collections import defaultdict\n",
    "\n",
    "stopw = ['la','de','y','los','las','el','en','es','para','una','estas','a','así','son','del','ya','que','pero','con','como','por','un','más']\n",
    "# stopw = []\n",
    "\n",
    "word_counts = defaultdict(int)\n",
    "for doc in docs:\n",
    "    for word in doc.lower().translate(str.maketrans('', '', string.punctuation)).split(\" \"):\n",
    "        if word not in stopw:\n",
    "            wset.add(word)\n",
    "            word_counts[word.lower()] += 1\n",
    "\n",
    "# sorted_word_count es un arreglo de términos con su respectivo conteo\n",
    "# está ordenado del término más frecuente al menos frecuente\n",
    "sorted_word_count = sorted(word_counts.items(), key=lambda item: item[1], reverse=True)\n",
    "print(sorted_word_count)"
   ]
  },
  {
   "cell_type": "code",
   "execution_count": 17,
   "id": "94217c75deee9a6a",
   "metadata": {
    "ExecuteTime": {
     "end_time": "2024-06-13T15:39:46.924803Z",
     "start_time": "2024-06-13T15:39:44.042794Z"
    }
   },
   "outputs": [
    {
     "name": "stdout",
     "output_type": "stream",
     "text": [
      "[('habil', 7), ('bland', 5), ('informat', 5), ('fundamental', 4), ('trabaj', 3), ('gestion', 2), ('desarroll', 2), ('facilit', 2), ('entorn', 2), ('tecnic', 2), ('permit', 2), ('mejor', 2), ('product', 2), ('exit', 1), ('camp', 1), ('inclu', 1), ('comun', 1), ('efect', 1), ('capac', 1), ('equip', 1), ('tiemp', 1), ('competent', 1), ('interaccion', 1), ('colabor', 1), ('dinam', 1), ('resolu', 1), ('problem', 1), ('esencial', 1), ('per', 1), ('combin', 1), ('com', 1), ('creativ', 1), ('pensamient', 1), ('critic', 1), ('pued', 1), ('llev', 1), ('solucion', 1), ('innov', 1), ('empat', 1), ('ejempl', 1), ('profesional', 1), ('entend', 1), ('anticip', 1), ('neces', 1), ('usuari', 1), ('calid', 1), ('inteligent', 1), ('emocional', 1), ('vital', 1), ('emocion', 1), ('propi', 1), ('demas', 1), ('mas', 1), ('armoni', 1)]\n"
     ]
    }
   ],
   "source": [
    "# se repite el procesamiento anterior de conteo de palabras, integrando la actividad de Stemming\n",
    "from nltk.stem import SnowballStemmer\n",
    "\n",
    "stemmer = SnowballStemmer('spanish')\n",
    "stopw = ['la','de','y','los','lo','las','el','en','es','para','una','estas', 'esta','a','así','son','del','ya','que','pero','con','como','por','un','más','má','demá', 'par','asi']\n",
    "# stopw = []\n",
    "\n",
    "stem_docs = []\n",
    "for doc in docs:\n",
    "    sdoc = []\n",
    "    for word in doc.lower().translate(str.maketrans('', '', string.punctuation)).split(\" \"):\n",
    "        if word not in stopw:\n",
    "            sdoc.append(stemmer.stem(word))\n",
    "    stem_docs.append(sdoc)\n",
    "\n",
    "word_counts = defaultdict(int)\n",
    "for doc in docs:\n",
    "    for word in doc.lower().translate(str.maketrans('', '', string.punctuation)).split(\" \"):\n",
    "        word = stemmer.stem(word)\n",
    "        if word not in stopw:\n",
    "            wset.add(word)\n",
    "            word_counts[word.lower()] += 1\n",
    "            \n",
    "sorted_word_count = sorted(word_counts.items(), key=lambda item: item[1], reverse=True)\n",
    "print(sorted_word_count)"
   ]
  },
  {
   "cell_type": "markdown",
   "id": "d40128bb32061442",
   "metadata": {},
   "source": [
    "#### 1. Determine un espacio vectorial para la representación de documentos con 10 dimensiones. Considere a las palabras a partir de su raíz, para simplificar su representación computacional."
   ]
  },
  {
   "cell_type": "code",
   "execution_count": 18,
   "id": "fc43e15eb478008d",
   "metadata": {
    "ExecuteTime": {
     "end_time": "2024-06-13T15:41:17.701334Z",
     "start_time": "2024-06-13T15:41:17.689356Z"
    }
   },
   "outputs": [
    {
     "name": "stdout",
     "output_type": "stream",
     "text": [
      "[('informat', 5), ('fundamental', 4), ('trabaj', 3), ('gestion', 2), ('desarroll', 2), ('facilit', 2), ('entorn', 2), ('tecnic', 2), ('permit', 2), ('solucion', 1)]\n"
     ]
    }
   ],
   "source": [
    "ev = sorted_word_count[2:11]\n",
    "ev.append(sorted_word_count[36])\n",
    "print(ev)"
   ]
  },
  {
   "cell_type": "markdown",
   "id": "8290b51e1ceba387",
   "metadata": {},
   "source": [
    "#### 2. Construya una matriz binaria de incidencias (presencia/ausencia)"
   ]
  },
  {
   "cell_type": "code",
   "execution_count": 19,
   "id": "d7d2c8ff13edcdea",
   "metadata": {
    "ExecuteTime": {
     "end_time": "2024-06-13T15:41:56.979201Z",
     "start_time": "2024-06-13T15:41:56.969032Z"
    }
   },
   "outputs": [
    {
     "name": "stdout",
     "output_type": "stream",
     "text": [
      "[[1, 1, 1, 1, 0, 0, 0, 0, 0, 0], [1, 1, 1, 0, 1, 1, 1, 0, 0, 0], [1, 0, 0, 0, 0, 0, 0, 1, 0, 1], [1, 1, 0, 0, 1, 0, 0, 1, 1, 0], [1, 0, 1, 1, 0, 1, 1, 0, 1, 0]]\n"
     ]
    }
   ],
   "source": [
    "# ev_docs es un arreglo con la representación binaria (presencia/ausencia) de los documentos en el espacio vectorial\n",
    "ev_docs = []\n",
    "for doc in stem_docs:\n",
    "    ev_doc = []\n",
    "    for dim in ev:\n",
    "        if dim[0] in doc:\n",
    "            ev_doc.append(1)\n",
    "        else:\n",
    "            ev_doc.append(0)\n",
    "    ev_docs.append(ev_doc)\n",
    "print(ev_docs)"
   ]
  },
  {
   "cell_type": "markdown",
   "id": "df83dcaee57cbd96",
   "metadata": {},
   "source": [
    "#### 3. Utilizando la similitud Jaccard, determine cuáles son los documentos por recuperarse para las siguientes consultas:\n",
    "3.1. “habilidad” AND “blanda” AND “fundamental”\n",
    "\n",
    "3.2. “habilidad” AND “blanda” AND NOT “técnica”\n",
    "\n",
    "3.3. “gestión” OR “solución”"
   ]
  },
  {
   "cell_type": "code",
   "execution_count": 20,
   "id": "de10645116562290",
   "metadata": {
    "ExecuteTime": {
     "end_time": "2024-06-13T15:49:06.379829Z",
     "start_time": "2024-06-13T15:49:06.358561Z"
    }
   },
   "outputs": [],
   "source": [
    "# hablidad AND blanda AND fundamental\n",
    "q1 = [0,1,0,0,0,0,0,0,0,0]\n",
    "# hablidad AND blanda AND NOT técnica\n",
    "q2 = [1,1,1,1,1,1,1,0,1,1]\n",
    "# gestión OR solución\n",
    "q3 = [0,0,0,1,0,0,0,0,0,1]\n",
    "\n",
    "queries = [q1,q2,q3]\n",
    "read_queries = ['hablidad AND blanda AND fundamental', 'hablidad AND blanda AND NOT técnica', 'gestión OR solución']"
   ]
  },
  {
   "cell_type": "markdown",
   "id": "bdb3661f6f1addc2",
   "metadata": {},
   "source": [
    "Similitud Jaccard: $JSim=|Q\\cap D|/|Q\\cup D|$"
   ]
  },
  {
   "cell_type": "code",
   "execution_count": 21,
   "id": "49a1a8bdc6157f5b",
   "metadata": {
    "ExecuteTime": {
     "end_time": "2024-06-13T16:16:35.146806Z",
     "start_time": "2024-06-13T16:16:35.133864Z"
    }
   },
   "outputs": [],
   "source": [
    "def jsim(q,d):\n",
    "    c = 0\n",
    "    for i in range(len(q)):\n",
    "        # contar los elementos iguales a 1 que son comunes entre los dos conjuntos\n",
    "        if q[i] == d[i] and d[i] == 1:\n",
    "            c += 1\n",
    "    f = 0\n",
    "    for i in range(len(q)):\n",
    "        # contar los elementos iguales a 1 en cualquiera de los dos conjuntos\n",
    "        if q[i] == 1 or d[i] == 1:\n",
    "            f += 1\n",
    "    #print('c',c,'f',f)\n",
    "    return c/f"
   ]
  },
  {
   "cell_type": "code",
   "execution_count": 22,
   "id": "a72cf66d1df3ef33",
   "metadata": {
    "ExecuteTime": {
     "end_time": "2024-06-13T16:21:58.532562Z",
     "start_time": "2024-06-13T16:21:58.508319Z"
    }
   },
   "outputs": [
    {
     "name": "stdout",
     "output_type": "stream",
     "text": [
      "-------------------------------------------------------\n",
      "QUERY:  0 hablidad AND blanda AND fundamental\n",
      "doc 0 Jsim 0.25\n",
      "Las habilidades blandas son fundamentales para el éxito en el campo de la informática. Estas habilidades fundamentales incluyen la comunicación efectiva, la capacidad de trabajar en equipo y la gestión del tiempo.\n",
      "doc 1 Jsim 0.16666666666666666\n",
      "El desarrollo de habilidades blandas es fundamental para los informáticos, ya que estas competencias facilitan la interacción y colaboración en entornos de trabajo dinámicos.\n",
      "doc 3 Jsim 0.2\n",
      "La empatía, por ejemplo, es una habilidad blanda que permite a los profesionales de la informática entender y anticipar las necesidades fundamentales de los usuarios, mejorando así la calidad de los productos y técnicas desarrolladas.\n",
      "-------------------------------------------------------\n",
      "QUERY:  1 hablidad AND blanda AND NOT técnica\n",
      "doc 0 Jsim 0.4444444444444444\n",
      "Las habilidades blandas son fundamentales para el éxito en el campo de la informática. Estas habilidades fundamentales incluyen la comunicación efectiva, la capacidad de trabajar en equipo y la gestión del tiempo.\n",
      "doc 1 Jsim 0.6666666666666666\n",
      "El desarrollo de habilidades blandas es fundamental para los informáticos, ya que estas competencias facilitan la interacción y colaboración en entornos de trabajo dinámicos.\n",
      "doc 2 Jsim 0.2\n",
      "En la informática, la resolución de problemas es una habilidad técnica esencial, pero combinarla con habilidades blandas como la creatividad y el pensamiento crítico puede llevar a soluciones innovadoras.\n",
      "doc 3 Jsim 0.4\n",
      "La empatía, por ejemplo, es una habilidad blanda que permite a los profesionales de la informática entender y anticipar las necesidades fundamentales de los usuarios, mejorando así la calidad de los productos y técnicas desarrolladas.\n",
      "doc 4 Jsim 0.6666666666666666\n",
      "La inteligencia emocional es una habilidad blanda vital para los informáticos. Permite gestionar mejor las emociones propias y las de los demás, facilitando así un entorno de trabajo más armonioso y productivo.\n",
      "-------------------------------------------------------\n",
      "QUERY:  2 gestión OR solución\n",
      "doc 0 Jsim 0.2\n",
      "Las habilidades blandas son fundamentales para el éxito en el campo de la informática. Estas habilidades fundamentales incluyen la comunicación efectiva, la capacidad de trabajar en equipo y la gestión del tiempo.\n",
      "doc 2 Jsim 0.25\n",
      "En la informática, la resolución de problemas es una habilidad técnica esencial, pero combinarla con habilidades blandas como la creatividad y el pensamiento crítico puede llevar a soluciones innovadoras.\n",
      "doc 4 Jsim 0.14285714285714285\n",
      "La inteligencia emocional es una habilidad blanda vital para los informáticos. Permite gestionar mejor las emociones propias y las de los demás, facilitando así un entorno de trabajo más armonioso y productivo.\n"
     ]
    }
   ],
   "source": [
    "for i in range(len(queries)):\n",
    "    print('-------------------------------------------------------')\n",
    "    print('QUERY: ',i,read_queries[i])\n",
    "    for j in range(0,len(ev_docs)):\n",
    "        #print(queries[i],ev_docs[j])\n",
    "        jsim_ = jsim(queries[i],ev_docs[j])\n",
    "        if jsim_ > 0:\n",
    "            print('doc',j,'Jsim',jsim_)\n",
    "            print(docs[j])"
   ]
  },
  {
   "cell_type": "markdown",
   "id": "9bb0f4f00050dc6a",
   "metadata": {},
   "source": [
    "#### 4. Con el mismo espacio vectorial del punto 1, construya una matriz de términos y documentos (matriz TF-IDF)."
   ]
  },
  {
   "cell_type": "markdown",
   "id": "24ca205bbea581f5",
   "metadata": {},
   "source": [
    "Frecuencia de término: $TF_{ij}=count(t_i,d_j)/|d_j|$\n",
    "\n",
    "Frecuencia inversa de término: $IDF_{ij} = log(|corpus|/count(d_j,t_i))$"
   ]
  },
  {
   "cell_type": "code",
   "execution_count": 23,
   "id": "dae62d05079b0a1e",
   "metadata": {},
   "outputs": [
    {
     "name": "stdout",
     "output_type": "stream",
     "text": [
      "Matriz TF-IDF:\n",
      "[[-0.0113951  -0.01519346 -0.0113951  -0.0107248  -0.0107248 ]\n",
      " [ 0.02789294  0.0185953   0.          0.01312609  0.        ]\n",
      " [ 0.01394647  0.0185953   0.          0.          0.01312609]\n",
      " [ 0.0319266   0.          0.          0.          0.03004857]\n",
      " [ 0.          0.0425688   0.          0.03004857  0.        ]\n",
      " [ 0.          0.0425688   0.          0.          0.03004857]\n",
      " [ 0.          0.0425688   0.          0.          0.03004857]\n",
      " [ 0.          0.          0.0319266   0.03004857  0.        ]\n",
      " [ 0.          0.          0.          0.03004857  0.03004857]\n",
      " [ 0.          0.          0.05726817  0.          0.        ]]\n"
     ]
    }
   ],
   "source": [
    "import numpy as np\n",
    "import math\n",
    "\n",
    "# Términos del espacio vectorial (obtenidos previamente)\n",
    "terms = [term for term, _ in ev]\n",
    "\n",
    "# Crear la matriz TF (Frecuencia de Término)\n",
    "tf_matrix = np.zeros((len(terms), len(docs)))\n",
    "\n",
    "for doc_index, doc in enumerate(stem_docs):\n",
    "    for term_index, term in enumerate(terms):\n",
    "        tf_matrix[term_index, doc_index] = doc.count(term) / len(doc)\n",
    "\n",
    "# Calcular IDF para cada término\n",
    "idf = np.zeros(len(terms))\n",
    "total_docs = len(docs)\n",
    "\n",
    "for term_index, term in enumerate(terms):\n",
    "    containing_docs = sum(1 for doc in stem_docs if term in doc)\n",
    "    idf[term_index] = math.log(total_docs / (1 + containing_docs))\n",
    "\n",
    "# Calcular la matriz TF-IDF\n",
    "tfidf_matrix = tf_matrix * idf[:, None]\n",
    "\n",
    "# Mostrar la matriz TF-IDF\n",
    "print(\"Matriz TF-IDF:\")\n",
    "print(tfidf_matrix)\n"
   ]
  },
  {
   "cell_type": "markdown",
   "id": "4cf3c1efabaaa880",
   "metadata": {},
   "source": [
    "#### 5. Calcule el vector de la consulta utilizando las mismas fórmulas de TF-IDF."
   ]
  },
  {
   "cell_type": "code",
   "execution_count": 24,
   "id": "84a4e509395fb02a",
   "metadata": {},
   "outputs": [
    {
     "name": "stdout",
     "output_type": "stream",
     "text": [
      "TF-IDF vector for query 1: [-0.          0.07438118  0.          0.          0.          0.\n",
      "  0.          0.          0.          0.        ]\n",
      "TF-IDF vector for query 2: [-0.          0.          0.          0.          0.          0.\n",
      "  0.          0.12770641  0.          0.        ]\n",
      "TF-IDF vector for query 3: [-0.          0.          0.          0.17027521  0.          0.\n",
      "  0.          0.          0.          0.30543024]\n"
     ]
    }
   ],
   "source": [
    "import numpy as np\n",
    "import math\n",
    "\n",
    "# Términos del espacio vectorial (obtenidos previamente)\n",
    "terms = [term for term, _ in ev]\n",
    "\n",
    "# Crear una función para procesar la consulta\n",
    "def process_query(query, terms, idf):\n",
    "    # Tokenizar y realizar el stemming de la consulta\n",
    "    query_tokens = query.lower().translate(str.maketrans('', '', string.punctuation)).split(\" \")\n",
    "    stemmed_query = [stemmer.stem(word) for word in query_tokens if word not in stopw]\n",
    "    \n",
    "    # Calcular la frecuencia de término (TF) para la consulta\n",
    "    tf_query = np.zeros(len(terms))\n",
    "    for term_index, term in enumerate(terms):\n",
    "        tf_query[term_index] = stemmed_query.count(term) / len(stemmed_query)\n",
    "    \n",
    "    # Calcular el vector TF-IDF de la consulta\n",
    "    tfidf_query = tf_query * idf\n",
    "    return tfidf_query\n",
    "\n",
    "# Ejemplos de consultas\n",
    "query1 = \"habilidad blanda fundamental\"\n",
    "query2 = \"habilidad blanda NOT técnica\"\n",
    "query3 = \"gestión OR solución\"\n",
    "\n",
    "# Calcular los vectores TF-IDF de las consultas\n",
    "tfidf_query1 = process_query(query1, terms, idf)\n",
    "tfidf_query2 = process_query(query2, terms, idf)\n",
    "tfidf_query3 = process_query(query3, terms, idf)\n",
    "\n",
    "# Mostrar los vectores TF-IDF de las consultas\n",
    "print(\"TF-IDF vector for query 1:\", tfidf_query1)\n",
    "print(\"TF-IDF vector for query 2:\", tfidf_query2)\n",
    "print(\"TF-IDF vector for query 3:\", tfidf_query3)\n"
   ]
  },
  {
   "cell_type": "markdown",
   "id": "9919b6ff27b500f7",
   "metadata": {},
   "source": [
    "#### 6. Utilizando la similitud coseno, determine cuáles son los documentos por recuperarse para las siguientes consultas:\n",
    "6.1. “habilidades blandas fundamentales”\n",
    "\n",
    "6.2. “habilidades técnicas”\n",
    "\n",
    "6.3. “solución y gestión en informática”"
   ]
  },
  {
   "cell_type": "code",
   "execution_count": 25,
   "id": "ddfae35f1a8c519e",
   "metadata": {},
   "outputs": [
    {
     "name": "stdout",
     "output_type": "stream",
     "text": [
      "TF-IDF vector for query 1: [-0.          0.07438118  0.          0.          0.          0.\n",
      "  0.          0.          0.          0.        ]\n",
      "TF-IDF vector for query 2: [-0.          0.          0.          0.          0.          0.\n",
      "  0.          0.25541281  0.          0.        ]\n",
      "TF-IDF vector for query 3: [-0.06077385  0.          0.          0.17027521  0.          0.\n",
      "  0.          0.          0.          0.30543024]\n"
     ]
    }
   ],
   "source": [
    "import numpy as np\n",
    "import math\n",
    "from sklearn.metrics.pairwise import cosine_similarity\n",
    "\n",
    "# Crear una función para procesar la consulta\n",
    "def process_query(query, terms, idf):\n",
    "    # Tokenizar y realizar el stemming de la consulta\n",
    "    query_tokens = query.lower().translate(str.maketrans('', '', string.punctuation)).split(\" \")\n",
    "    stemmed_query = [stemmer.stem(word) for word in query_tokens if word not in stopw]\n",
    "    \n",
    "    # Calcular la frecuencia de término (TF) para la consulta\n",
    "    tf_query = np.zeros(len(terms))\n",
    "    for term_index, term in enumerate(terms):\n",
    "        tf_query[term_index] = stemmed_query.count(term) / len(stemmed_query)\n",
    "    \n",
    "    # Calcular el vector TF-IDF de la consulta\n",
    "    tfidf_query = tf_query * idf\n",
    "    return tfidf_query\n",
    "\n",
    "# Ejemplos de consultas\n",
    "query1 = \"habilidades blandas fundamentales\"\n",
    "query2 = \"habilidades técnicas\"\n",
    "query3 = \"solución y gestión en informática\"\n",
    "\n",
    "# Calcular los vectores TF-IDF de las consultas\n",
    "tfidf_query1 = process_query(query1, terms, idf)\n",
    "tfidf_query2 = process_query(query2, terms, idf)\n",
    "tfidf_query3 = process_query(query3, terms, idf)\n",
    "\n",
    "# Mostrar los vectores TF-IDF de las consultas\n",
    "print(\"TF-IDF vector for query 1:\", tfidf_query1)\n",
    "print(\"TF-IDF vector for query 2:\", tfidf_query2)\n",
    "print(\"TF-IDF vector for query 3:\", tfidf_query3)\n"
   ]
  },
  {
   "cell_type": "code",
   "execution_count": 26,
   "id": "79365d10-251e-47fa-8e27-0115bdde0de6",
   "metadata": {},
   "outputs": [
    {
     "name": "stdout",
     "output_type": "stream",
     "text": [
      "Query: habilidades blandas fundamentales\n",
      "Document 1 with cosine similarity: 0.6056\n",
      "Las habilidades blandas son fundamentales para el éxito en el campo de la informática. Estas habilidades fundamentales incluyen la comunicación efectiva, la capacidad de trabajar en equipo y la gestión del tiempo.\n",
      "\n",
      "Document 4 with cosine similarity: 0.2398\n",
      "La empatía, por ejemplo, es una habilidad blanda que permite a los profesionales de la informática entender y anticipar las necesidades fundamentales de los usuarios, mejorando así la calidad de los productos y técnicas desarrolladas.\n",
      "\n",
      "Document 2 with cosine similarity: 0.2332\n",
      "El desarrollo de habilidades blandas es fundamental para los informáticos, ya que estas competencias facilitan la interacción y colaboración en entornos de trabajo dinámicos.\n",
      "\n",
      "Query: habilidades técnicas\n",
      "Document 4 with cosine similarity: 0.5490\n",
      "La empatía, por ejemplo, es una habilidad blanda que permite a los profesionales de la informática entender y anticipar las necesidades fundamentales de los usuarios, mejorando así la calidad de los productos y técnicas desarrolladas.\n",
      "\n",
      "Document 3 with cosine similarity: 0.4797\n",
      "En la informática, la resolución de problemas es una habilidad técnica esencial, pero combinarla con habilidades blandas como la creatividad y el pensamiento crítico puede llevar a soluciones innovadoras.\n",
      "\n",
      "Query: solución y gestión en informática\n",
      "Document 3 with cosine similarity: 0.7698\n",
      "En la informática, la resolución de problemas es una habilidad técnica esencial, pero combinarla con habilidades blandas como la creatividad y el pensamiento crítico puede llevar a soluciones innovadoras.\n",
      "\n",
      "Document 1 with cosine similarity: 0.3749\n",
      "Las habilidades blandas son fundamentales para el éxito en el campo de la informática. Estas habilidades fundamentales incluyen la comunicación efectiva, la capacidad de trabajar en equipo y la gestión del tiempo.\n",
      "\n",
      "Document 5 with cosine similarity: 0.2603\n",
      "La inteligencia emocional es una habilidad blanda vital para los informáticos. Permite gestionar mejor las emociones propias y las de los demás, facilitando así un entorno de trabajo más armonioso y productivo.\n",
      "\n",
      "Document 4 with cosine similarity: 0.0335\n",
      "La empatía, por ejemplo, es una habilidad blanda que permite a los profesionales de la informática entender y anticipar las necesidades fundamentales de los usuarios, mejorando así la calidad de los productos y técnicas desarrolladas.\n",
      "\n",
      "Document 2 with cosine similarity: 0.0326\n",
      "El desarrollo de habilidades blandas es fundamental para los informáticos, ya que estas competencias facilitan la interacción y colaboración en entornos de trabajo dinámicos.\n",
      "\n"
     ]
    }
   ],
   "source": [
    "# Calcular la matriz de similitud coseno entre la consulta y los documentos\n",
    "def calculate_cosine_similarity(tfidf_query, tfidf_matrix):\n",
    "    # Convertir tfidf_query a 2D array para usar en cosine_similarity\n",
    "    tfidf_query_2d = tfidf_query.reshape(1, -1)\n",
    "    similarities = cosine_similarity(tfidf_query_2d, tfidf_matrix.T)[0]\n",
    "    return similarities\n",
    "\n",
    "# Calcular la similitud coseno para cada consulta\n",
    "cosine_sim_query1 = calculate_cosine_similarity(tfidf_query1, tfidf_matrix)\n",
    "cosine_sim_query2 = calculate_cosine_similarity(tfidf_query2, tfidf_matrix)\n",
    "cosine_sim_query3 = calculate_cosine_similarity(tfidf_query3, tfidf_matrix)\n",
    "\n",
    "# Mostrar los documentos recuperados para cada consulta ordenados por similitud coseno\n",
    "def print_retrieved_docs(query, cosine_similarities):\n",
    "    print(f\"Query: {query}\")\n",
    "    doc_indices = np.argsort(cosine_similarities)[::-1]  # Ordenar de mayor a menor\n",
    "    for index in doc_indices:\n",
    "        if cosine_similarities[index] > 0:  # Mostrar solo documentos con similitud > 0\n",
    "            print(f\"Document {index+1} with cosine similarity: {cosine_similarities[index]:.4f}\")\n",
    "            print(docs[index])\n",
    "            print()\n",
    "\n",
    "# Resultados para cada consulta\n",
    "print_retrieved_docs(query1, cosine_sim_query1)\n",
    "print_retrieved_docs(query2, cosine_sim_query2)\n",
    "print_retrieved_docs(query3, cosine_sim_query3)\n"
   ]
  },
  {
   "cell_type": "markdown",
   "id": "a54de9eb09c5e966",
   "metadata": {},
   "source": [
    "#### 7. Ordene los documentos en función de su similitud con la consulta, de mayor a menor."
   ]
  },
  {
   "cell_type": "code",
   "execution_count": 27,
   "id": "cb9a2e56fde5c0c8",
   "metadata": {},
   "outputs": [
    {
     "name": "stdout",
     "output_type": "stream",
     "text": [
      "Query: habilidades blandas fundamentales\n",
      "Document 1 with cosine similarity: 0.6056\n",
      "Las habilidades blandas son fundamentales para el éxito en el campo de la informática. Estas habilidades fundamentales incluyen la comunicación efectiva, la capacidad de trabajar en equipo y la gestión del tiempo.\n",
      "\n",
      "Document 4 with cosine similarity: 0.2398\n",
      "La empatía, por ejemplo, es una habilidad blanda que permite a los profesionales de la informática entender y anticipar las necesidades fundamentales de los usuarios, mejorando así la calidad de los productos y técnicas desarrolladas.\n",
      "\n",
      "Document 2 with cosine similarity: 0.2332\n",
      "El desarrollo de habilidades blandas es fundamental para los informáticos, ya que estas competencias facilitan la interacción y colaboración en entornos de trabajo dinámicos.\n",
      "\n",
      "Query: habilidades técnicas\n",
      "Document 4 with cosine similarity: 0.5490\n",
      "La empatía, por ejemplo, es una habilidad blanda que permite a los profesionales de la informática entender y anticipar las necesidades fundamentales de los usuarios, mejorando así la calidad de los productos y técnicas desarrolladas.\n",
      "\n",
      "Document 3 with cosine similarity: 0.4797\n",
      "En la informática, la resolución de problemas es una habilidad técnica esencial, pero combinarla con habilidades blandas como la creatividad y el pensamiento crítico puede llevar a soluciones innovadoras.\n",
      "\n",
      "Query: solución y gestión en informática\n",
      "Document 3 with cosine similarity: 0.7698\n",
      "En la informática, la resolución de problemas es una habilidad técnica esencial, pero combinarla con habilidades blandas como la creatividad y el pensamiento crítico puede llevar a soluciones innovadoras.\n",
      "\n",
      "Document 1 with cosine similarity: 0.3749\n",
      "Las habilidades blandas son fundamentales para el éxito en el campo de la informática. Estas habilidades fundamentales incluyen la comunicación efectiva, la capacidad de trabajar en equipo y la gestión del tiempo.\n",
      "\n",
      "Document 5 with cosine similarity: 0.2603\n",
      "La inteligencia emocional es una habilidad blanda vital para los informáticos. Permite gestionar mejor las emociones propias y las de los demás, facilitando así un entorno de trabajo más armonioso y productivo.\n",
      "\n",
      "Document 4 with cosine similarity: 0.0335\n",
      "La empatía, por ejemplo, es una habilidad blanda que permite a los profesionales de la informática entender y anticipar las necesidades fundamentales de los usuarios, mejorando así la calidad de los productos y técnicas desarrolladas.\n",
      "\n",
      "Document 2 with cosine similarity: 0.0326\n",
      "El desarrollo de habilidades blandas es fundamental para los informáticos, ya que estas competencias facilitan la interacción y colaboración en entornos de trabajo dinámicos.\n",
      "\n"
     ]
    }
   ],
   "source": [
    "# Función para ordenar y mostrar documentos en función de su similitud con la consulta\n",
    "def order_documents_by_similarity(query, cosine_similarities):\n",
    "    print(f\"Query: {query}\")\n",
    "    doc_indices = np.argsort(cosine_similarities)[::-1]  # Ordenar de mayor a menor\n",
    "    ordered_docs = [(index+1, cosine_similarities[index], docs[index]) for index in doc_indices if cosine_similarities[index] > 0]\n",
    "    for doc_index, sim, doc in ordered_docs:\n",
    "        print(f\"Document {doc_index} with cosine similarity: {sim:.4f}\")\n",
    "        print(doc)\n",
    "        print()\n",
    "    return ordered_docs\n",
    "\n",
    "# Ordenar y mostrar los documentos para cada consulta\n",
    "ordered_docs_query1 = order_documents_by_similarity(query1, cosine_sim_query1)\n",
    "ordered_docs_query2 = order_documents_by_similarity(query2, cosine_sim_query2)\n",
    "ordered_docs_query3 = order_documents_by_similarity(query3, cosine_sim_query3)\n"
   ]
  },
  {
   "cell_type": "markdown",
   "id": "8cd4938aed7cae14",
   "metadata": {},
   "source": [
    "#### 8. Determine cuál es el documento más relevante para la consulta dada."
   ]
  },
  {
   "cell_type": "code",
   "execution_count": 28,
   "id": "9e349181-dd99-4ab1-9a77-f1217ab38e1a",
   "metadata": {},
   "outputs": [
    {
     "name": "stdout",
     "output_type": "stream",
     "text": [
      "Most relevant document for Query 1:\n",
      "The most relevant document is Document 1 with cosine similarity: 0.6056\n",
      "Las habilidades blandas son fundamentales para el éxito en el campo de la informática. Estas habilidades fundamentales incluyen la comunicación efectiva, la capacidad de trabajar en equipo y la gestión del tiempo.\n",
      "\n",
      "Most relevant document for Query 2:\n",
      "The most relevant document is Document 4 with cosine similarity: 0.5490\n",
      "La empatía, por ejemplo, es una habilidad blanda que permite a los profesionales de la informática entender y anticipar las necesidades fundamentales de los usuarios, mejorando así la calidad de los productos y técnicas desarrolladas.\n",
      "\n",
      "Most relevant document for Query 3:\n",
      "The most relevant document is Document 3 with cosine similarity: 0.7698\n",
      "En la informática, la resolución de problemas es una habilidad técnica esencial, pero combinarla con habilidades blandas como la creatividad y el pensamiento crítico puede llevar a soluciones innovadoras.\n"
     ]
    }
   ],
   "source": [
    "# Función para determinar el documento más relevante para la consulta dada\n",
    "def most_relevant_document(ordered_docs):\n",
    "    if ordered_docs:\n",
    "        most_relevant = ordered_docs[0]  # El primer documento en la lista ordenada\n",
    "        print(f\"The most relevant document is Document {most_relevant[0]} with cosine similarity: {most_relevant[1]:.4f}\")\n",
    "        print(most_relevant[2])\n",
    "    else:\n",
    "        print(\"No relevant documents found.\")\n",
    "\n",
    "# Determinar y mostrar el documento más relevante para cada consulta\n",
    "print(\"Most relevant document for Query 1:\")\n",
    "most_relevant_document(ordered_docs_query1)\n",
    "\n",
    "print(\"\\nMost relevant document for Query 2:\")\n",
    "most_relevant_document(ordered_docs_query2)\n",
    "\n",
    "print(\"\\nMost relevant document for Query 3:\")\n",
    "most_relevant_document(ordered_docs_query3)\n"
   ]
  }
 ],
 "metadata": {
  "kernelspec": {
   "display_name": "Python 3 (ipykernel)",
   "language": "python",
   "name": "python3"
  },
  "language_info": {
   "codemirror_mode": {
    "name": "ipython",
    "version": 3
   },
   "file_extension": ".py",
   "mimetype": "text/x-python",
   "name": "python",
   "nbconvert_exporter": "python",
   "pygments_lexer": "ipython3",
   "version": "3.11.7"
  }
 },
 "nbformat": 4,
 "nbformat_minor": 5
}
